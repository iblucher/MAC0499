{
 "cells": [
  {
   "cell_type": "code",
   "execution_count": 1,
   "metadata": {},
   "outputs": [],
   "source": [
    "import math\n",
    "import re\n",
    "\n",
    "import astropy.io.fits as pf\n",
    "import numpy as np\n",
    "import matplotlib.pyplot as plt\n",
    "import scipy.interpolate as interp\n",
    "\n",
    "import utils\n",
    "\n",
    "%matplotlib inline"
   ]
  },
  {
   "cell_type": "code",
   "execution_count": 10,
   "metadata": {},
   "outputs": [],
   "source": [
    "star = 'X0319'\n",
    "PATH = f'spectra/{star}/'"
   ]
  },
  {
   "cell_type": "code",
   "execution_count": 11,
   "metadata": {},
   "outputs": [
    {
     "name": "stdout",
     "output_type": "stream",
     "text": [
      "spectra/:\r\n",
      "ardata.fits  \u001b[0m\u001b[01;34mHD110379\u001b[0m/  \u001b[01;34mHD186791\u001b[0m/  \u001b[01;34mX0319\u001b[0m/  \u001b[01;34mX0386\u001b[0m/  \u001b[01;34mX0538\u001b[0m/  \u001b[01;34mX0771\u001b[0m/\r\n",
      "\r\n",
      "spectra/HD110379:\r\n",
      "BG20000                             tellstar_qvir_ordens_finalglue.fits\r\n",
      "obs_HD110379_ordens_finalglue.fits\r\n",
      "\r\n",
      "spectra/HD186791:\r\n",
      "BG20000                             tellstar_35aql_ordens_finalglue.fits\r\n",
      "obs_HD186791_ordens_finalglue.fits\r\n",
      "\r\n",
      "spectra/X0319:\r\n",
      "X0319_N_O_E.fits            X0319_U_O_E.fits      X0319_V_O_E.fits\r\n",
      "X0319_N_O_E_TAC_final.fits  X0319_U_O_E_TAC.fits  X0319_V_O_E_TAC_final.fits\r\n",
      "X0319_N_O_E_TRA.fits        X0319_U_O_E_TRA.fits  X0319_V_O_E_TRA.fits\r\n",
      "\r\n",
      "spectra/X0386:\r\n",
      "X0386_N_N_E.fits            X0386_U_N_E.fits      X0386_V_N_E.fits\r\n",
      "X0386_N_N_E_TAC_final.fits  X0386_U_N_E_TAC.fits  X0386_V_N_E_TAC_final.fits\r\n",
      "X0386_N_N_E_TRA.fits        X0386_U_N_E_TRA.fits  X0386_V_N_E_TRA.fits\r\n",
      "\r\n",
      "spectra/X0538:\r\n",
      "X0538_N_N_E.fits            X0538_U_N_E.fits      X0538_V_N_E.fits\r\n",
      "X0538_N_N_E_TAC_final.fits  X0538_U_N_E_TAC.fits  X0538_V_N_E_TAC_final.fits\r\n",
      "X0538_N_N_E_TRA.fits        X0538_U_N_E_TRA.fits  X0538_V_N_E_TRA.fits\r\n",
      "\r\n",
      "spectra/X0771:\r\n",
      "X0771_N_N_E.fits            X0771_U_N_E.fits      X0771_V_N_E.fits\r\n",
      "X0771_N_N_E_TAC_final.fits  X0771_U_N_E_TAC.fits  X0771_V_N_E_TAC_final.fits\r\n",
      "X0771_N_N_E_TRA.fits        X0771_U_N_E_TRA.fits  X0771_V_N_E_TRA.fits\r\n"
     ]
    }
   ],
   "source": [
    "%ls -R spectra/"
   ]
  },
  {
   "cell_type": "code",
   "execution_count": 12,
   "metadata": {},
   "outputs": [],
   "source": [
    "obs_flux, obs_wl = utils.get_spectrum_data_and_wavelength(file=PATH + 'X0319_V_O_E.fits')\n",
    "tel_flux, tel_wl = utils.get_spectrum_data_and_wavelength(file=PATH + 'X0319_V_O_E_TRA.fits')\n",
    "corr_flux, corr_wl = utils.get_spectrum_data_and_wavelength(file=PATH + 'X0319_V_O_E_TAC_final.fits')"
   ]
  },
  {
   "cell_type": "code",
   "execution_count": 13,
   "metadata": {},
   "outputs": [
    {
     "name": "stdout",
     "output_type": "stream",
     "text": [
      "21088 21089\n"
     ]
    },
    {
     "data": {
      "text/plain": [
       "21089"
      ]
     },
     "execution_count": 13,
     "metadata": {},
     "output_type": "execute_result"
    }
   ],
   "source": [
    "utils.find_nearest(obs_wl, 850)"
   ]
  },
  {
   "cell_type": "code",
   "execution_count": 14,
   "metadata": {},
   "outputs": [
    {
     "name": "stdout",
     "output_type": "stream",
     "text": [
      "23088 23089\n"
     ]
    },
    {
     "data": {
      "text/plain": [
       "23089"
      ]
     },
     "execution_count": 14,
     "metadata": {},
     "output_type": "execute_result"
    }
   ],
   "source": [
    "utils.find_nearest(obs_wl, 880)"
   ]
  },
  {
   "cell_type": "code",
   "execution_count": 8,
   "metadata": {},
   "outputs": [
    {
     "name": "stdout",
     "output_type": "stream",
     "text": [
      "21088 21089\n",
      "23088 23089\n",
      "21088 21089\n",
      "23088 23089\n",
      "21088 21089\n",
      "23088 23089\n",
      "21088 21089\n",
      "23088 23089\n"
     ]
    }
   ],
   "source": [
    "start = 850\n",
    "end = 880\n",
    "\n",
    "star_intervals_idxs = {}\n",
    "\n",
    "for star in ['X0319', 'X0386', 'X0538', 'X0771']:\n",
    "    if star == 'X0319':\n",
    "        c = 'O'\n",
    "    else:\n",
    "        c = 'N'\n",
    "    obs_flux, obs_wl = utils.get_spectrum_data_and_wavelength(file=f'spectra/{star}/{star}_V_{c}_E.fits')\n",
    "    \n",
    "    start_idx = utils.find_nearest(obs_wl, start)\n",
    "    end_idx = utils.find_nearest(obs_wl, end)\n",
    "    \n",
    "    star_intervals_idxs[star] = [start_idx, end_idx]"
   ]
  },
  {
   "cell_type": "code",
   "execution_count": 9,
   "metadata": {},
   "outputs": [
    {
     "data": {
      "text/plain": [
       "{'X0319': [21089, 23089],\n",
       " 'X0386': [21089, 23089],\n",
       " 'X0538': [21089, 23089],\n",
       " 'X0771': [21089, 23089]}"
      ]
     },
     "execution_count": 9,
     "metadata": {},
     "output_type": "execute_result"
    }
   ],
   "source": [
    "star_intervals_idxs"
   ]
  }
 ],
 "metadata": {
  "kernelspec": {
   "display_name": "Python 3",
   "language": "python",
   "name": "python3"
  },
  "language_info": {
   "codemirror_mode": {
    "name": "ipython",
    "version": 3
   },
   "file_extension": ".py",
   "mimetype": "text/x-python",
   "name": "python",
   "nbconvert_exporter": "python",
   "pygments_lexer": "ipython3",
   "version": "3.6.5"
  }
 },
 "nbformat": 4,
 "nbformat_minor": 2
}

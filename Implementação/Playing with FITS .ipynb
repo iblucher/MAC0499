{
 "cells": [
  {
   "cell_type": "code",
   "execution_count": 1,
   "metadata": {},
   "outputs": [],
   "source": [
    "import astropy.io.fits as pf\n",
    "import numpy as np\n",
    "import pandas  as pd\n",
    "import matplotlib.pyplot as plt\n",
    "\n",
    "plt.rcParams['figure.figsize'] = [15, 12]\n",
    "\n",
    "%matplotlib inline"
   ]
  },
  {
   "cell_type": "markdown",
   "metadata": {},
   "source": [
    "### Abertura dos arquivos\n",
    "\"The `open()` function returns an object called an HDUList which is a list-like collection of HDU objects. An HDU (Header Data Unit) is the highest level component of the FITS file structure, consisting of a header and (typically) a data array or table.\"\n",
    "\n",
    "O arquivo tem um header com chaves que especificam seu conteúdo."
   ]
  },
  {
   "cell_type": "code",
   "execution_count": 2,
   "metadata": {},
   "outputs": [],
   "source": [
    "obs_path = 'spectra/HD110379/obs_HD110379_ordens_finalglue.fits'\n",
    "tel_path = 'spectra/HD110379/tellstar_qvir_ordens_finalglue.fits'"
   ]
  },
  {
   "cell_type": "code",
   "execution_count": 3,
   "metadata": {},
   "outputs": [
    {
     "name": "stdout",
     "output_type": "stream",
     "text": [
      "Filename: spectra/HD110379/obs_HD110379_ordens_finalglue.fits\n",
      "No.    Name      Ver    Type      Cards   Dimensions   Format\n",
      "  0  PRIMARY       1 PrimaryHDU     539   (595493,)   float64   \n"
     ]
    }
   ],
   "source": [
    "with pf.open(obs_path) as spectrum_obs:\n",
    "    spectrum_obs.info()\n",
    "    primary_hdu = spectrum_obs[0]"
   ]
  },
  {
   "cell_type": "code",
   "execution_count": 4,
   "metadata": {
    "scrolled": false
   },
   "outputs": [
    {
     "data": {
      "text/plain": [
       "SIMPLE  =                    T / Fits standard                                  \n",
       "BITPIX  =                  -64 / Bits per pixel                                 \n",
       "NAXIS   =                    1 / Number of axes                                 \n",
       "NAXIS1  =               595493 / Axis length                                    \n",
       "EXTEND  =                    T / File may contain extensions                    \n",
       "ORIGIN  = 'NOAO-IRAF FITS Image Kernel July 2003' / FITS file originator        \n",
       "IRAF-TLM= '2013-10-10T19:32:18' / Time of last modification                     \n",
       "OBJECT  = 'RED_NONMERGED_SCI_POINT_REDU' / Name of the object observed          \n",
       "COMMENT   FITS (Flexible Image Transport System) format is defined in 'Astronomy\n",
       "COMMENT   and Astrophysics', volume 376, page 359; bibcode: 2001A&A...376..359H \n",
       "DATE    = '2013-10-08T17:59:44' / file creation date (YYYY-MM-DDThh:mm:ss UT)   \n",
       "CTYPE1  = 'LINEAR  '                                                            \n",
       "BUNIT   = 'ADU     '                                                            \n",
       "CRVAL1  =                 3052.0000                                             \n",
       "CRPIX1  =                   1.                                                  \n",
       "CDELT1  =    0.012379642365                                                     \n",
       "CUNIT1  = 'Angstrom'           / Wavelength units                               \n",
       "LAMRMS  =             0.002193 / RMS of wavelength solution [CUNIT1]            \n",
       "LAMNLIN =                  262 / No. of lines used in wavelength solution       \n",
       "CRDER1  =             0.000135 / Wavelength uncertainty [CUNIT1]                \n",
       "CSYER1  =             0.000311 / Typical systematic wavelength error [CUNIT1]   \n",
       "TELESCOP= 'ESO-VLT-U2'         / ESO Telescope Name                             \n",
       "INSTRUME= 'UVES    '           / Instrument used.                               \n",
       "RA      =           190.413633 / 12:41:39.2 RA (J2000) pointing (deg)           \n",
       "DEC     =             -1.44935 / -01:26:57.6 DEC (J2000) pointing (deg)         \n",
       "EQUINOX =                2000. / Standard FK5 (years)                           \n",
       "RADECSYS= 'FK5     '           / Coordinate reference frame                     \n",
       "MJD-OBS =       55677.07266342 / MJD start (2011-04-26T01:44:38.119)            \n",
       "DATE-OBS= '2011-04-26T01:44:38.119' / Date of observation                       \n",
       "UTC     =                6273. / 01:44:33.000 UTC at start (sec)                \n",
       "LST     =            40669.384 / 11:17:49.384 LST at start (sec)                \n",
       "PI-COI  = 'UNKNOWN '           / PI-COI name.                                   \n",
       "OBSERVER= 'UNKNOWN '           / Name of observer.                              \n",
       "DATAMD5 = '7f14c9c9f9127e3ff7303f7254d41775' / MD5 checksum                     \n",
       "PIPEFILE= 'red_nonmerged_science_redu.fits' / Filename of data product          \n",
       "AIRMASS =                1.164 / Airmass at start                               \n",
       "IMAGETYP= 'OBJECT,POINT'       / Observation type                               \n",
       "UT      = '01:44:33.000'       / UT at start                                    \n",
       "ST      = '11:17:49.383'       / ST at start                                    \n",
       "EXPTIME =              19.9968 / Total integration time                         \n",
       "FILTER1 = 'FREE    '           / Filter common name.                            \n",
       "FILTER3 = 'OG590   '           / Filter common name.                            \n",
       "GRAT2   = 'CD#4    '           / Grating common name.                           \n",
       "WLEN2   =                 860. / Grating central wavelength [nm].               \n",
       "HIERARCH ESO OBS DID = 'ESO-VLT-DIC.OBS-1.11' / OBS Dictionary                  \n",
       "HIERARCH ESO OBS EXECTIME = 655 / Expected execution time                       \n",
       "HIERARCH ESO OBS GRP = '0       ' / linked blocks                               \n",
       "HIERARCH ESO OBS ID =   538575 / Observation block ID                           \n",
       "HIERARCH ESO OBS NAME = 'hd110379_dic2' / OB name                               \n",
       "HIERARCH ESO OBS OBSERVER = 'UNKNOWN ' / Observer Name                          \n",
       "HIERARCH ESO OBS PI-COI ID = 74696 / ESO internal PI-COI ID                     \n",
       "HIERARCH ESO OBS PI-COI NAME = 'UNKNOWN ' / PI-COI name                         \n",
       "HIERARCH ESO OBS PROG ID = '087.B-0308(A)' / ESO program identification         \n",
       "HIERARCH ESO OBS TARG NAME = 'HD-110379' / OB target name                       \n",
       "HIERARCH ESO OBS START = '2011-04-26T01:31:24' / OB start time                  \n",
       "HIERARCH ESO OBS TPLNO =     2 / Template number within OB                      \n",
       "HIERARCH ESO TPL DID = 'ESO-VLT-DIC.TPL-1.9' / Data dictionary for TPL          \n",
       "HIERARCH ESO TPL ID = 'UVES_dic2_obs_exp' / Template signature ID               \n",
       "HIERARCH ESO TPL NAME = 'Dic2 Observation' / Template name                      \n",
       "HIERARCH ESO TPL PRESEQ = 'UVES_dic_obs.seq' / Sequencer script                 \n",
       "HIERARCH ESO TPL START = '2011-04-26T01:42:23' / TPL start time                 \n",
       "HIERARCH ESO TPL VERSION = '@(#) $Revision: 2.55 $' / Version of the templat    \n",
       "HIERARCH ESO TPL NEXP =      3 / Number of exposures within templat             \n",
       "HIERARCH ESO TPL EXPNO =     3 / Exposure number within template                \n",
       "HIERARCH ESO TEL DID = 'ESO-VLT-DIC.TCS' / Data dictionary for TEL              \n",
       "HIERARCH ESO TEL ID = 'v 3.44+.1.4' / TCS version number                        \n",
       "HIERARCH ESO TEL DATE = '2000-01-01T00:00:00' / TCS installation date           \n",
       "HIERARCH ESO TEL ALT =  59.183 / Alt angle at start (deg)                       \n",
       "HIERARCH ESO TEL AZ =  224.642 / Az angle at start (deg) S=0,W=90               \n",
       "HIERARCH ESO TEL GEOELEV = 2648. / Elevation above sea level (m)                \n",
       "HIERARCH ESO TEL GEOLAT = -24.6272 / Tel geo latitute (+=North) (deg)           \n",
       "HIERARCH ESO TEL GEOLON = -70.4048 / Tel geo longitude (+=East) (deg)           \n",
       "HIERARCH ESO TEL OPER = 'I, Condor' / Telescope Operator                        \n",
       "HIERARCH ESO TEL FOCU ID = 'NB      ' / Telescope focus station ID              \n",
       "HIERARCH ESO TEL FOCU LEN = 120. / Focal length (m)                             \n",
       "HIERARCH ESO TEL FOCU SCALE = 1.718 / Focal scale (arcsec/mm)                   \n",
       "HIERARCH ESO TEL FOCU VALUE = -29.856 / M2 setting (mm)                         \n",
       "HIERARCH ESO TEL PARANG START = -140.283 / Parallactic angle at start (deg)     \n",
       "HIERARCH ESO TEL AIRM START = 1.164 / Airmass at start                          \n",
       "HIERARCH ESO TEL AMBI FWHM START = 0.94 / Observatory Seeing queried from AS    \n",
       "HIERARCH ESO TEL AMBI PRES START = 744.42 / Observatory ambient air pressure q  \n",
       "HIERARCH ESO TEL AMBI WINDSP = 6.25 / Observatory ambient wind speed que        \n",
       "HIERARCH ESO TEL AMBI WINDDIR = 92. / Observatory ambient wind directio         \n",
       "HIERARCH ESO TEL AMBI RHUM = 16. / Observatory ambient relative humi            \n",
       "HIERARCH ESO TEL AMBI TEMP = 13.7 / Observatory ambient temperature qu          \n",
       "HIERARCH ESO TEL MOON RA = 317.975834 / 21:11:54.2 RA (J2000) (deg)             \n",
       "HIERARCH ESO TEL MOON DEC = -11.59676 / -11:35:48.3 DEC (J2000) (deg)           \n",
       "HIERARCH ESO TEL TH M1 TEMP = 13.3 / M1 superficial temperature                 \n",
       "HIERARCH ESO TEL TRAK STATUS = 'NORMAL  ' / Tracking status                     \n",
       "HIERARCH ESO TEL DOME STATUS = 'FULLY-OPEN' / Dome status                       \n",
       "HIERARCH ESO TEL CHOP ST =   F / True when chopping is active                   \n",
       "HIERARCH ESO TEL TARG ALPHA = 124139.983 / Alpha coordinate for the target      \n",
       "HIERARCH ESO TEL TARG DELTA = -12658.25 / Delta coordinate for the target       \n",
       "HIERARCH ESO TEL TARG EPOCH = 2000. / Epoch                                     \n",
       "HIERARCH ESO TEL TARG EPOCHSYSTEM = 'J       ' / Epoch system (default J=Julian)\n",
       "HIERARCH ESO TEL TARG EQUINOX = 2000. / Equinox                                 \n",
       "HIERARCH ESO TEL TARG PMA = 0. / Proper Motion Alpha                            \n",
       "HIERARCH ESO TEL TARG PMD = 0. / Proper motion Delta                            \n",
       "HIERARCH ESO TEL TARG RADVEL = 0. / Radial velocity                             \n",
       "HIERARCH ESO TEL TARG PARALLAX = 0. / Parallax                                  \n",
       "HIERARCH ESO TEL TARG COORDTYPE = 'M       ' / Coordinate type (M=mean A=apparen\n",
       "HIERARCH ESO TEL PARANG END = -140.389 / Parallactic angle at end (deg)         \n",
       "HIERARCH ESO TEL AIRM END = 1.163 / Airmass at end                              \n",
       "HIERARCH ESO TEL AMBI FWHM END = 0.94 / Observatory Seeing queried from AS      \n",
       "HIERARCH ESO TEL IA FWHM = 0.97 / Delivered seeing corrected by airm            \n",
       "HIERARCH ESO TEL AMBI PRES END = 744.42 / Observatory ambient air pressure q    \n",
       "HIERARCH ESO TEL AMBI TAU0 = 0.002167 / Average coherence time                  \n",
       "HIERARCH ESO INS ID = 'UVES/$Revision: 3.31 $' / Instrument ID.                 \n",
       "HIERARCH ESO INS DID = 'ESO-VLT-DIC.UVES_ICS-1.8' / Data dictionary for         \n",
       "HIERARCH ESO INS SWSIM = 'NORMAL  ' / Software simulation.                      \n",
       "HIERARCH ESO INS PATH = 'RED     ' / Optical path used.                         \n",
       "HIERARCH ESO INS ADC MODE = 'AUTO    ' / ADC mode.                              \n",
       "HIERARCH ESO INS DPOL MODE = 'OFF     ' / Instrument depolarizer mode.          \n",
       "HIERARCH ESO INS MODE = 'DICHR#2 ' / Instrument mode used.                      \n",
       "HIERARCH ESO INS SHUT1 ID = 'TSH     ' / Shutter ID.                            \n",
       "HIERARCH ESO INS SHUT1 NAME = 'Tel_Shutter' / Shutter name.                     \n",
       "HIERARCH ESO INS SHUT1 ST =  T / Shutter open.                                  \n",
       "HIERARCH ESO INS MIRR1 ID = 'FREE    ' / Mirror unique ID.                      \n",
       "HIERARCH ESO INS MIRR1 NAME = 'FREE    ' / Mirror common name.                  \n",
       "HIERARCH ESO INS MIRR1 NO =  1 / Mirror slide position.                         \n",
       "HIERARCH ESO INS SHUT3 ID = 'TSH3    ' / Shutter ID.                            \n",
       "HIERARCH ESO INS SHUT3 NAME = 'D2L_Shutter' / Shutter name.                     \n",
       "HIERARCH ESO INS SHUT3 ST =  F / Shutter open.                                  \n",
       "HIERARCH ESO INS SLIT3 WID = 0.3 / Slit width [arcsec].                         \n",
       "HIERARCH ESO INS SLIT3 Y1FRML= 'ENC=OFFSET+RESOL*acos((WID-(MAX+MIN))/(MAX-MIN)'\n",
       "HIERARCH ESO INS SLIT3 Y1OFFSET = 4750 / Left ref. position [Enc].              \n",
       "HIERARCH ESO INS SLIT3 Y1RESOL = 40. / Left encoder resolution [Enc/deg].       \n",
       "HIERARCH ESO INS SLIT3 Y1WIDMAX = 5.572 / Left max. slit width value [arcsec    \n",
       "HIERARCH ESO INS SLIT3 Y1WIDMIN = 0.062 / Left min. slit width value [arcsec    \n",
       "HIERARCH ESO INS SLIT3 Y2FRML= 'ENC=OFFSET+RESOL*acos((WID-(MAX+MIN))/(MAX-MIN)'\n",
       "HIERARCH ESO INS SLIT3 Y2OFFSET = 4560 / Right ref. position [Enc].             \n",
       "HIERARCH ESO INS SLIT3 Y2RESOL = 40. / Right encoder resolution [Enc/deg]       \n",
       "HIERARCH ESO INS SLIT3 Y2WIDMAX = 5.513 / Right max. slit width value [arcse    \n",
       "HIERARCH ESO INS SLIT3 Y2WIDMIN = 0.05 / Right min. slit width value [arcse     \n",
       "HIERARCH ESO INS SLIT3 Y1ENC = 11369 / Slit Vertical top motor absolute e       \n",
       "HIERARCH ESO INS SLIT3 Y2ENC = 11138 / Slit Vertical bottom motor absolut       \n",
       "HIERARCH ESO INS SHUT4 ID = 'TSH4    ' / Shutter ID.                            \n",
       "HIERARCH ESO INS SHUT4 NAME = 'ThAr_Shutter' / Shutter name.                    \n",
       "HIERARCH ESO INS SHUT4 ST =  F / Shutter open.                                  \n",
       "HIERARCH ESO INS SLIT3 LEN = 12. / Slit length [arcsec].                        \n",
       "HIERARCH ESO INS SLIT3 X1FRML= 'ENC=OFFSET+RESOL*acos((LEN-(MAX+MIN))/(MAX-MIN)'\n",
       "HIERARCH ESO INS SLIT3 X1OFFSET = 2381 / Left ref. position [Enc].              \n",
       "HIERARCH ESO INS SLIT3 X1RESOL = 40. / Left encoder resolution [Enc/deg].       \n",
       "HIERARCH ESO INS SLIT3 X1LENMAX = 15.752 / Left max. slit length [arcsec].      \n",
       "HIERARCH ESO INS SLIT3 X1LENMIN = 0.087 / Left min. slit length [arcsec].       \n",
       "HIERARCH ESO INS SLIT3 X2FRML= 'ENC=OFFSET+RESOL*acos((LEN-(MAX+MIN))/(MAX-MIN)'\n",
       "HIERARCH ESO INS SLIT3 X2OFFSET = 2307 / Right ref. position [Enc].             \n",
       "HIERARCH ESO INS SLIT3 X2RESOL = 40. / Right encoder resolution [Enc/deg]       \n",
       "HIERARCH ESO INS SLIT3 X2LENMAX = 15.833 / Right max. slit length [arcsec].     \n",
       "HIERARCH ESO INS SLIT3 X2LENMIN = 0.064 / Right min. slit length [arcsec].      \n",
       "HIERARCH ESO INS SLIT3 X1ENC = 6548 / Slit Horizontal left motor absolut        \n",
       "HIERARCH ESO INS SLIT3 X2ENC = 6479 / Slit Horizontal right motor absolu        \n",
       "HIERARCH ESO INS LAMP7 SWSIM = T / If T, function is software simulat           \n",
       "HIERARCH ESO INS FILT3 ID = 'BS5     ' / Filter unique id.                      \n",
       "HIERARCH ESO INS FILT3 NAME = 'OG590   ' / Filter common name.                  \n",
       "HIERARCH ESO INS FILT3 NO =  5 / Filter wheel position index.                   \n",
       "HIERARCH ESO INS DET6 NAME = 'Red_ExpMeter' / Exposure meter name.              \n",
       "HIERARCH ESO INS DET6 CTMIN = 79833. / Minimum count during exposure.           \n",
       "HIERARCH ESO INS DET6 CTMAX = 114981. / Maximum count during exposure.          \n",
       "HIERARCH ESO INS DET6 CTTOT = 1722756. / Total counts during exposure.          \n",
       "HIERARCH ESO INS DET6 CTMEAN = 95708.7 / Average counts during exposure.        \n",
       "HIERARCH ESO INS DET6 CTRMS = 8428.45 / RMS of counts during exposure.          \n",
       "HIERARCH ESO INS DET6 TMMEAN = 0.51 / Normalised mean exposure time.            \n",
       "HIERARCH ESO INS DET6 UIT = 1. / User defined Integration time [sec             \n",
       "HIERARCH ESO INS DET6 OFFDRK = 0. / Average dark background counts.             \n",
       "HIERARCH ESO INS DET6 OFFSKY = 1. / Average sky background counts.              \n",
       "HIERARCH ESO INS SHUT2 ID = 'SPSH    ' / Shutter ID.                            \n",
       "HIERARCH ESO INS SHUT2 NAME = 'Sphere_Shutter' / Shutter name.                  \n",
       "HIERARCH ESO INS SHUT2 ST =  F / Shutter open.                                  \n",
       "HIERARCH ESO INS SHUT6 ID = 'REXS    ' / Shutter ID.                            \n",
       "HIERARCH ESO INS SHUT6 NAME = 'Red_ExpMeterSh' / Shutter name.                  \n",
       "HIERARCH ESO INS SHUT6 ST =  T / Shutter open.                                  \n",
       "HIERARCH ESO INS OPTI1 ID = '1       ' / General Optical device unique ID.      \n",
       "HIERARCH ESO INS OPTI1 NAME = 'OUT     ' / General Optical device common name   \n",
       "HIERARCH ESO INS OPTI1 NO =  1 / Slot number.                                   \n",
       "HIERARCH ESO INS OPTI1 TYPE = 'FREE    ' / General Optical device Element.      \n",
       "HIERARCH ESO INS GRAT2 ID = 'CD#4B   ' / Grating unique ID.                     \n",
       "HIERARCH ESO INS GRAT2 NAME = 'CD#4    ' / Grating common name.                 \n",
       "HIERARCH ESO INS GRAT2 FRML = 'ENC=Z+R*asin(WL*OR*GRV/(2*cos(ROT)))+TR*(T-T0)'  \n",
       "HIERARCH ESO INS GRAT2 ZORDER = 391615 / Grating zero order position [Enc].     \n",
       "HIERARCH ESO INS GRAT2 RESOL = 22500. / Resolution in encoder steps.            \n",
       "HIERARCH ESO INS GRAT2 GROOVES = 0.0003125 / Grating grooves / nm [gr/nm].      \n",
       "HIERARCH ESO INS GRAT2 ROT = 22.668 / Grating rot angle [deg].                  \n",
       "HIERARCH ESO INS GRAT2 TEMPRAMP = 25.67 / Temperature slope [Enc/C].            \n",
       "HIERARCH ESO INS GRAT2 TEMPREF = 12.4 / Temperature reference value.            \n",
       "HIERARCH ESO INS PIXSCALE = 0.182 / Pixel scale [arcsec].                       \n",
       "HIERARCH ESO INS GRAT2 X = 2048. / X pixel for central wavelength.              \n",
       "HIERARCH ESO INS GRAT2 Y = 2048. / Y pixel for central wavelength.              \n",
       "HIERARCH ESO INS GRAT2 NO =  2 / Grating wheel position index.                  \n",
       "HIERARCH ESO INS GRAT2 WLEN = 860. / Grating central wavelength [nm].           \n",
       "HIERARCH ESO INS GRAT2 ENC = 580022 / Grating absolute encoder position.        \n",
       "HIERARCH ESO INS SLIT1 NAME = 'FREE    ' / Slit common name.                    \n",
       "HIERARCH ESO INS SLIT1 NO =  1 / Slide position.                                \n",
       "HIERARCH ESO INS SLIT1 WID = 0. / Slit width [arcsec].                          \n",
       "HIERARCH ESO INS SLIT1 LEN = 0. / Slit length [arcsec].                         \n",
       "HIERARCH ESO INS TILT2 POS = 0. / Science camera tilt [pix].                    \n",
       "HIERARCH ESO INS TILT2 FRML = 'ENC=OFFSET+RESOL*asin(2*POS-(MAX+MIN)/(MAX-MIN)' \n",
       "HIERARCH ESO INS TILT2 OFFSET = 15860. / Offset in Formula.                     \n",
       "HIERARCH ESO INS TILT2 RESOL = -100. / Resolution in encoder steps.             \n",
       "HIERARCH ESO INS TILT2 POSMIN = -222. / Minimum camera tilt [pix].              \n",
       "HIERARCH ESO INS TILT2 POSMAX = 222. / Maximum camera tilt [pix].               \n",
       "HIERARCH ESO INS TILT2 TEMP = 12.6 / Temperature used to position the c         \n",
       "HIERARCH ESO INS TILT2 ENC = 15862 / Camera tilt absolute encoder posit         \n",
       "HIERARCH ESO INS DROT MODE = 'SKY     ' / Instrument derotator mode.            \n",
       "HIERARCH ESO INS DROT RA = 124139.27181 / ~~:~~:~~.~ RA (J2000) pointing [d     \n",
       "HIERARCH ESO INS DROT DEC = -12657.652798 / -~~:~~:~~.~ DEC (J2000) pointing    \n",
       "HIERARCH ESO INS DROT POSANG = 90. / Position angle [deg].                      \n",
       "HIERARCH ESO INS DROT BEGIN = 85.6547 / Physical position at start [deg].       \n",
       "HIERARCH ESO INS DROT END = 85.6753 / Physical position at end [deg].           \n",
       "HIERARCH ESO INS SHUT7 ID = 'FPSH    ' / Shutter ID.                            \n",
       "HIERARCH ESO INS SHUT7 NAME = 'FibrProjShutter' / Shutter name.                 \n",
       "HIERARCH ESO INS SHUT7 ST =  F / Shutter open.                                  \n",
       "HIERARCH ESO INS SENSOR10 SWSIM = T / If T, function is software simulat        \n",
       "HIERARCH ESO INS TEMP1 ID = 'TMBC    ' / Temperature sensor ID.                 \n",
       "HIERARCH ESO INS TEMP1 NAME = 'Temp. blue camera' / Temperature sensor name.    \n",
       "HIERARCH ESO INS TEMP1 VAL = 12.6 / Temperature sensor numeric value [          \n",
       "HIERARCH ESO INS TEMP1 MIN = 12.6 / Minimum temperature [C].                    \n",
       "HIERARCH ESO INS TEMP1 MAX = 12.6 / Maximum temperature [C].                    \n",
       "HIERARCH ESO INS TEMP1 MEAN = 12.6 / Average temperature [C].                   \n",
       "HIERARCH ESO INS TEMP1 RMS = 0. / RMS of samples over exposure.                 \n",
       "HIERARCH ESO INS TEMP2 ID = 'TMRC    ' / Temperature sensor ID.                 \n",
       "HIERARCH ESO INS TEMP2 NAME = 'Temp. red camera' / Temperature sensor name.     \n",
       "HIERARCH ESO INS TEMP2 VAL = 12.5 / Temperature sensor numeric value [          \n",
       "HIERARCH ESO INS TEMP2 MIN = 12.5 / Minimum temperature [C].                    \n",
       "HIERARCH ESO INS TEMP2 MAX = 12.5 / Maximum temperature [C].                    \n",
       "HIERARCH ESO INS TEMP2 MEAN = 12.5 / Average temperature [C].                   \n",
       "HIERARCH ESO INS TEMP2 RMS = 0. / RMS of samples over exposure.                 \n",
       "HIERARCH ESO INS TEMP3 ID = 'TMT     ' / Temperature sensor ID.                 \n",
       "HIERARCH ESO INS TEMP3 NAME = 'Temp. table' / Temperature sensor name.          \n",
       "HIERARCH ESO INS TEMP3 VAL = 12.8 / Temperature sensor numeric value [          \n",
       "HIERARCH ESO INS TEMP3 MIN = 12.8 / Minimum temperature [C].                    \n",
       "HIERARCH ESO INS TEMP3 MAX = 12.8 / Maximum temperature [C].                    \n",
       "HIERARCH ESO INS TEMP3 MEAN = 12.8 / Average temperature [C].                   \n",
       "HIERARCH ESO INS TEMP3 RMS = 0. / RMS of samples over exposure.                 \n",
       "HIERARCH ESO INS TEMP4 ID = 'TMIA    ' / Temperature sensor ID.                 \n",
       "HIERARCH ESO INS TEMP4 NAME = 'Temp. inside air' / Temperature sensor name.     \n",
       "HIERARCH ESO INS TEMP4 VAL = 13.5 / Temperature sensor numeric value [          \n",
       "HIERARCH ESO INS TEMP4 MIN = 13.5 / Minimum temperature [C].                    \n",
       "HIERARCH ESO INS TEMP4 MAX = 13.5 / Maximum temperature [C].                    \n",
       "HIERARCH ESO INS TEMP4 MEAN = 13.5 / Average temperature [C].                   \n",
       "HIERARCH ESO INS TEMP4 RMS = 0. / RMS of samples over exposure.                 \n",
       "HIERARCH ESO INS DPOS NAME = 'OUT     ' / Instrument depolarizer slide posit    \n",
       "HIERARCH ESO INS DPOS NO =   1 / Depolarizer slide position.                    \n",
       "HIERARCH ESO INS DPOR ST =   F / Instrument depolarizer rotating.               \n",
       "HIERARCH ESO INS SENS26 ID = 'BARO    ' / sensor ID.                            \n",
       "HIERARCH ESO INS SENS26 NAME = 'Barometer pressure' / sensor common name.       \n",
       "HIERARCH ESO INS SENS26 VAL = 743.8 / Sensor numeric value.                     \n",
       "HIERARCH ESO INS SENS26 MIN = 743.9 / Minimum sensor value.                     \n",
       "HIERARCH ESO INS SENS26 MAX = 743.9 / Maximum sensor value.                     \n",
       "HIERARCH ESO INS SENS26 MEAN = 743.9 / Average sensor value.                    \n",
       "HIERARCH ESO INS SENS26 RMS = 0. / RMS of samples over exposure.                \n",
       "HIERARCH ESO INS ADCS NAME = 'IN      ' / ADC slide position.                   \n",
       "HIERARCH ESO INS ADCS NO =   2 / ADC slide position.                            \n",
       "HIERARCH ESO INS ADC1 MODE = 'AUTO    ' / ADC mode.                             \n",
       "HIERARCH ESO INS ADC1 RA = 124139.27181 / ~~:~~:~~.~ RA (J2000) pointing [d     \n",
       "HIERARCH ESO INS ADC1 DEC = -12657.652798 / -~~:~~:~~.~ DEC (J2000) pointing    \n",
       "HIERARCH ESO INS ADC1 BEGIN = 94.184 / Position angle at start [deg].           \n",
       "HIERARCH ESO INS ADC1 END = 94.2994 / Position angle at end [deg].              \n",
       "HIERARCH ESO INS ADC2 MODE = 'AUTO    ' / ADC mode.                             \n",
       "HIERARCH ESO INS ADC2 RA = 124139.27181 / ~~:~~:~~.~ RA (J2000) pointing [d     \n",
       "HIERARCH ESO INS ADC2 DEC = -12657.652798 / -~~:~~:~~.~ DEC (J2000) pointing    \n",
       "HIERARCH ESO INS ADC2 BEGIN = 303.272 / Position angle at start [deg].          \n",
       "HIERARCH ESO INS ADC2 END = 303.225 / Position angle at end [deg].              \n",
       "HIERARCH ESO INS SHUT8 ST =  F / Shutter open.                                  \n",
       "HIERARCH ESO INS SHUT9 ST =  F / Shutter open.                                  \n",
       "HIERARCH ESO INS SHUT10 ST = F / Shutter open.                                  \n",
       "HIERARCH ESO INS FILT1 ID = 'FREE    ' / Filter unique id.                      \n",
       "HIERARCH ESO INS FILT1 NAME = 'FREE    ' / Filter common name.                  \n",
       "HIERARCH ESO INS FILT1 NO = 13 / Filter wheel position index.                   \n",
       "HIERARCH ESO INS OPTI2 ID = 'Diaphr.27mm' / General Optical device unique ID.   \n",
       "HIERARCH ESO INS OPTI2 NAME = 'OVRSIZ  ' / General Optical device common name   \n",
       "HIERARCH ESO INS OPTI2 NO =  3 / Slot number.                                   \n",
       "HIERARCH ESO INS OPTI2 TYPE = 'SLIDE   ' / General Optical device Element.      \n",
       "HIERARCH ESO INS MIRR2 ID = 'DICHR#2 ' / Mirror unique ID.                      \n",
       "HIERARCH ESO INS MIRR2 NAME = 'DICHR#2 ' / Mirror common name.                  \n",
       "HIERARCH ESO INS MIRR2 NO =  4 / Mirror slide position.                         \n",
       "HIERARCH ESO INS SENSOR5 SWSIM = T / If T, function is software simulat         \n",
       "HIERARCH ESO INS TEMP31 ID = 'IODT    ' / Temperature sensor ID.                \n",
       "HIERARCH ESO INS TEMP31 NAME = 'Iodine cell temp.' / Temperature sensor name.   \n",
       "HIERARCH ESO INS TEMP31 VAL = 14.6 / Temperature sensor numeric value [         \n",
       "HIERARCH ESO INS TEMP31 MIN = 14.4 / Minimum temperature [C].                   \n",
       "HIERARCH ESO INS TEMP31 MAX = 14.6 / Maximum temperature [C].                   \n",
       "HIERARCH ESO INS TEMP31 MEAN = 14.5 / Average temperature [C].                  \n",
       "HIERARCH ESO INS TEMP31 RMS = 0.1 / RMS of samples over exposure.               \n",
       "HIERARCH ESO DET ID = 'CCD FIERA - Rev: 3.96' / Detector system Id              \n",
       "HIERARCH ESO DET NAME = 'ccdUvR - ccdUvr' / Name of detector system             \n",
       "HIERARCH ESO DET DATE = '1998-07-09' / Installation date                        \n",
       "HIERARCH ESO DET DID = 'ESO-VLT-DIC.CCDDCS,ESO-VLT-DIC.FCDDCS' / Diction        \n",
       "HIERARCH ESO DET BITS =     16 / Bits per pixel readout                         \n",
       "HIERARCH ESO DET RA = 190.41363254 / Apparent 12:41:39.2 RA at start            \n",
       "HIERARCH ESO DET DEC = -1.449348 / Apparent -01:26:57.6 DEC at start            \n",
       "HIERARCH ESO DET CHIPS =     2 / # of chips in detector array                   \n",
       "HIERARCH ESO DET OUTPUTS =   2 / # of outputs                                   \n",
       "HIERARCH ESO DET OUTREF =    0 / reference output                               \n",
       "HIERARCH ESO DET WINDOWS =   1 / # of windows readout                           \n",
       "HIERARCH ESO DET SOFW MODE = 'Normal  ' / CCD sw operational mode               \n",
       "HIERARCH ESO DET EXP NO =  691 / Unique exposure ID number                      \n",
       "HIERARCH ESO DET EXP TYPE = 'Normal  ' / Exposure type                          \n",
       "HIERARCH ESO DET EXP RDTTIME = 39.511 / image readout time                      \n",
       "HIERARCH ESO DET EXP XFERTIM = 39.495 / image transfer time                     \n",
       "HIERARCH ESO DET WIN1 ST =   T / If T, window enabled                           \n",
       "HIERARCH ESO DET WIN1 STRX = 1 / Lower left pixel in X                          \n",
       "HIERARCH ESO DET WIN1 STRY = 1 / Lower left pixel in Y                          \n",
       "HIERARCH ESO DET WIN1 NX = 4296 / # of pixels along X                           \n",
       "HIERARCH ESO DET WIN1 NY = 4096 / # of pixels along Y                           \n",
       "HIERARCH ESO DET WIN1 BINX = 1 / Binning factor along X                         \n",
       "HIERARCH ESO DET WIN1 BINY = 1 / Binning factor along Y                         \n",
       "HIERARCH ESO DET WIN1 NDIT = 1 / # of subintegrations                           \n",
       "HIERARCH ESO DET WIN1 UIT1 = 10. / user defined subintegration time             \n",
       "HIERARCH ESO DET WIN1 DIT1 = 9.998387 / actual subintegration time              \n",
       "HIERARCH ESO DET WIN1 DKTM = 10.7004 / Dark current time                        \n",
       "HIERARCH ESO DET READ MODE = 'normal  ' / Readout method                        \n",
       "HIERARCH ESO DET READ SPEED = '2pts/225kHz/lg' / Readout speed                  \n",
       "HIERARCH ESO DET READ CLOCK = '225kHz/2ports/low_gain' / Readout clock pattern  \n",
       "HIERARCH ESO DET READ NFRAM = 1 / Number of readouts buffered in sin            \n",
       "HIERARCH ESO DET FRAM ID =   1 / Image sequencial number                        \n",
       "HIERARCH ESO DET FRAM TYPE = 'Normal  ' / Type of frame                         \n",
       "HIERARCH ESO DET SHUT TYPE = 'Slit    ' / type of shutter                       \n",
       "HIERARCH ESO DET SHUT ID = 'ccdUvr shutter' / Shutter unique identifier         \n",
       "HIERARCH ESO DET SHUT TMOPEN = 0.042 / Time taken to open shutter               \n",
       "HIERARCH ESO DET SHUT TMCLOS = 0.039 / Time taken to close shutter              \n",
       "HIERARCH ESO DET TELE INT = 60. / Interval between two successive te            \n",
       "HIERARCH ESO DET TELE NO =   3 / # of sources active                            \n",
       "HIERARCH ESO DET TLM1 NAME = 'CCD T1  ' / Description of telemetry param.       \n",
       "HIERARCH ESO DET TLM1 ID = 'CCD Sensor1' / ID of telemetry sensor               \n",
       "HIERARCH ESO DET TLM1 START = 135. / Telemetry value at read start              \n",
       "HIERARCH ESO DET TLM1 END = 135. / Telemetry value at read completion           \n",
       "HIERARCH ESO DET TLM2 NAME = 'CCD T2  ' / Description of telemetry param.       \n",
       "HIERARCH ESO DET TLM2 ID = 'CCD Sensor2' / ID of telemetry sensor               \n",
       "HIERARCH ESO DET TLM2 START = 137.3 / Telemetry value at read start             \n",
       "HIERARCH ESO DET TLM2 END = 137.3 / Telemetry value at read completion          \n",
       "HIERARCH ESO DET TLM3 NAME = 'EBOX T  ' / Description of telemetry param.       \n",
       "HIERARCH ESO DET TLM3 ID = 'Box Temp' / ID of telemetry sensor                  \n",
       "HIERARCH ESO DET TLM3 START = 290.6 / Telemetry value at read start             \n",
       "HIERARCH ESO DET TLM3 END = 290.6 / Telemetry value at read completion          \n",
       "HIERARCH ESO DET CHIP1 INDEX = 1 / Chip index                                   \n",
       "HIERARCH ESO DET CHIP1 ID = 'CCD-20  ' / Detector chip identification           \n",
       "HIERARCH ESO DET CHIP1 NAME = 'MIT/LL, EEV' / Detector chip name                \n",
       "HIERARCH ESO DET CHIP1 DATE = '1998-07-09' / Date of installation [YYYY-MM-DD]  \n",
       "HIERARCH ESO DET CHIP1 X =   1 / X location in array                            \n",
       "HIERARCH ESO DET CHIP1 Y =   1 / Y location in array                            \n",
       "HIERARCH ESO DET CHIP1 NX = 2048 / # of pixels along X                          \n",
       "HIERARCH ESO DET CHIP1 NY = 4096 / # of pixels along Y                          \n",
       "HIERARCH ESO DET CHIP1 PSZX = 15. / Size of pixel in X                          \n",
       "HIERARCH ESO DET CHIP1 PSZY = 15. / Size of pixel in Y                          \n",
       "HIERARCH ESO DET CHIP1 XGAP = 0. / Gap between chips along x                    \n",
       "HIERARCH ESO DET CHIP1 YGAP = 0. / Gap between chips along y                    \n",
       "HIERARCH ESO DET OUT1 INDEX = 1 / Output index                                  \n",
       "HIERARCH ESO DET OUT1 ID = 'L       ' / Output ID as from manufacturer          \n",
       "HIERARCH ESO DET OUT1 NAME = 'L       ' / Description of output                 \n",
       "HIERARCH ESO DET OUT1 CHIP = 1 / Chip to which the output belongs               \n",
       "HIERARCH ESO DET OUT1 X =    1 / X location of output                           \n",
       "HIERARCH ESO DET OUT1 Y =    1 / Y location of output                           \n",
       "HIERARCH ESO DET OUT1 NX = 2048 / valid pixels along X                          \n",
       "HIERARCH ESO DET OUT1 NY = 4096 / valid pixels along Y                          \n",
       "HIERARCH ESO DET OUT1 CONAD = 1.41 / Conversion from ADUs to electrons          \n",
       "HIERARCH ESO DET OUT1 RON = 4. / Readout noise per output (e-)                  \n",
       "HIERARCH ESO DET OUT1 GAIN = 0.71 / Conversion from electrons to ADU            \n",
       "HIERARCH ESO PRO DID = 'PRO-1.15' / Data dictionary for PRO                     \n",
       "HIERARCH ESO PRO CATG = 'RED_NONMERGED_SCI_POINT_REDU' / Category of pipeline pr\n",
       "HIERARCH ESO PRO TYPE = 'REDUCED ' / Product type                               \n",
       "HIERARCH ESO PRO TECH = 'ECHELLE ' / Observation technique                      \n",
       "HIERARCH ESO PRO SCIENCE =   T / Scientific product if T                        \n",
       "HIERARCH ESO PRO REC1 ID = 'uves_obs_scired' / Pipeline recipe (unique) identifi\n",
       "HIERARCH ESO PRO REC1 DRS ID = 'cpl-6.1.1' / Data Reduction System identifier   \n",
       "HIERARCH ESO PRO REC1 PIPE ID = 'uves/5.0.9' / Pipeline (unique) identifier     \n",
       "HIERARCH ESO PRO REC1 RAW1 NAME = 'UVES.2011-04-26T01:44:38.119.fits' / File nam\n",
       "HIERARCH ESO PRO REC1 RAW1 CATG = 'SCI_POINT_RED' / Category of raw frame       \n",
       "HIERARCH ESO PRO DATANCOM =  1 / Number of combined frames                      \n",
       "HIERARCH ESO PRO REC1 CAL1 NAME = 'UV_GEXT_031013A_extcoeff_table.fits' / File n\n",
       "HIERARCH ESO PRO REC1 CAL1 CATG = 'EXTCOEFF_TABLE' / Category of calibration fra\n",
       "HIERARCH ESO PRO REC1 CAL1 DATAMD5 = '8b6806a8b8ce62e0c4514763ce4be125' / MD5 si\n",
       "HIERARCH ESO PRO REC1 CAL2 NAME = 'linetable_redl.fits' / File name of calibrati\n",
       "HIERARCH ESO PRO REC1 CAL2 CATG = 'LINE_TABLE_REDL' / Category of calibration fr\n",
       "HIERARCH ESO PRO REC1 CAL2 DATAMD5 = 'd5f082737e0e6b2fdb2d6370f39fcc1e' / MD5 si\n",
       "HIERARCH ESO PRO REC1 CAL3 NAME = 'linetable_redu.fits' / File name of calibrati\n",
       "HIERARCH ESO PRO REC1 CAL3 CATG = 'LINE_TABLE_REDU' / Category of calibration fr\n",
       "HIERARCH ESO PRO REC1 CAL3 DATAMD5 = '501890753c58b4affc5f2b31cf7975db' / MD5 si\n",
       "HIERARCH ESO PRO REC1 CAL4 NAME = 'masterbias_redl.fits' / File name of calibrat\n",
       "HIERARCH ESO PRO REC1 CAL4 CATG = 'MASTER_BIAS_REDL' / Category of calibration f\n",
       "HIERARCH ESO PRO REC1 CAL4 DATAMD5 = '9a5b40870bebc057bc566753308904b6' / MD5 si\n",
       "HIERARCH ESO PRO REC1 CAL5 NAME = 'masterbias_redu.fits' / File name of calibrat\n",
       "HIERARCH ESO PRO REC1 CAL5 CATG = 'MASTER_BIAS_REDU' / Category of calibration f\n",
       "HIERARCH ESO PRO REC1 CAL5 DATAMD5 = '6dcdd3023b9a94fd60c50fb5aefab629' / MD5 si\n",
       "HIERARCH ESO PRO REC1 CAL6 NAME = 'masterflat_redl.fits' / File name of calibrat\n",
       "HIERARCH ESO PRO REC1 CAL6 CATG = 'MASTER_FLAT_REDL' / Category of calibration f\n",
       "HIERARCH ESO PRO REC1 CAL6 DATAMD5 = '486b99e4609575159e1256788f6d0d1a' / MD5 si\n",
       "HIERARCH ESO PRO REC1 CAL7 NAME = 'masterflat_redu.fits' / File name of calibrat\n",
       "HIERARCH ESO PRO REC1 CAL7 CATG = 'MASTER_FLAT_REDU' / Category of calibration f\n",
       "HIERARCH ESO PRO REC1 CAL7 DATAMD5 = 'd02c7570b5a11afcb5cbebfdd4eaa094' / MD5 si\n",
       "HIERARCH ESO PRO REC1 CAL8 NAME = 'ordertable_redl.fits' / File name of calibrat\n",
       "HIERARCH ESO PRO REC1 CAL8 CATG = 'ORDER_TABLE_REDL' / Category of calibration f\n",
       "HIERARCH ESO PRO REC1 CAL8 DATAMD5 = 'c7950b6711ade8b3bacf511af3178db3' / MD5 si\n",
       "HIERARCH ESO PRO REC1 CAL9 NAME = 'ordertable_redu.fits' / File name of calibrat\n",
       "HIERARCH ESO PRO REC1 CAL9 CATG = 'ORDER_TABLE_REDU' / Category of calibration f\n",
       "HIERARCH ESO PRO REC1 CAL9 DATAMD5 = '84783de4cd844efd27d7ecdb851c6a53' / MD5 si\n",
       "HIERARCH ESO PRO REC1 PARAM1 NAME = 'debug   ' / Whether or not to save intermed\n",
       "HIERARCH ESO PRO REC1 PARAM1 VALUE = 'false   ' / Default: false                \n",
       "HIERARCH ESO PRO REC1 PARAM2 NAME = 'plotter ' / Any plots produced by the recip\n",
       "HIERARCH ESO PRO REC1 PARAM2 VALUE = 'no      ' / Default: 'no'                 \n",
       "HIERARCH ESO PRO REC1 PARAM3 NAME = 'process_chip' / For RED arm data proces the\n",
       "HIERARCH ESO PRO REC1 PARAM3 VALUE = 'BOTH    ' / Default: 'both'               \n",
       "HIERARCH ESO PRO REC1 PARAM4 NAME = 'clean_traps' / Clean detector traps. If TRU\n",
       "HIERARCH ESO PRO REC1 PARAM4 VALUE = 'false   ' / Default: false                \n",
       "HIERARCH ESO PRO REC1 PARAM5 NAME = 'reduce.backsub.mmethod' / Background measur\n",
       "HIERARCH ESO PRO REC1 PARAM5 VALUE = 'median  ' / Default: 'median'             \n",
       "HIERARCH ESO PRO REC1 PARAM6 NAME = 'reduce.backsub.npoints' / This is the numbe\n",
       "HIERARCH ESO PRO REC1 PARAM6 VALUE = '82      ' / Default: 82                   \n",
       "HIERARCH ESO PRO REC1 PARAM7 NAME = 'reduce.backsub.radiusy' / The height (in pi\n",
       "HIERARCH ESO PRO REC1 PARAM7 VALUE = '2       ' / Default: 2                    \n",
       "HIERARCH ESO PRO REC1 PARAM8 NAME = 'reduce.backsub.sdegree' / Degree of interpo\n",
       "HIERARCH ESO PRO REC1 PARAM8 VALUE = '1       ' / Default: 1                    \n",
       "HIERARCH ESO PRO REC1 PARAM9 NAME = 'reduce.backsub.smoothx' / If spline interpo\n",
       "HIERARCH ESO PRO REC1 PARAM9 VALUE = '-1      ' / Default: -1                   \n",
       "HIERARCH ESO PRO REC1 PARAM10 NAME = 'reduce.backsub.smoothy' / If spline interp\n",
       "HIERARCH ESO PRO REC1 PARAM10 VALUE = '-1      ' / Default: -1                  \n",
       "HIERARCH ESO PRO REC1 PARAM11 NAME = 'reduce.extract.method' / Extraction method\n",
       "HIERARCH ESO PRO REC1 PARAM11 VALUE = 'optimal ' / Default: 'optimal'           \n",
       "HIERARCH ESO PRO REC1 PARAM12 NAME = 'reduce.extract.kappa' / In optimal extract\n",
       "HIERARCH ESO PRO REC1 PARAM12 VALUE = '10      ' / Default: 10                  \n",
       "HIERARCH ESO PRO REC1 PARAM13 NAME = 'reduce.extract.chunk' / In optimal extract\n",
       "HIERARCH ESO PRO REC1 PARAM13 VALUE = '32      ' / Default: 32                  \n",
       "HIERARCH ESO PRO REC1 PARAM14 NAME = 'reduce.extract.profile' / In optimal extra\n",
       "HIERARCH ESO PRO REC1 PARAM14 VALUE = 'auto    ' / Default: 'auto'              \n",
       "HIERARCH ESO PRO REC1 PARAM15 NAME = 'reduce.extract.skymethod' / In optimal ext\n",
       "HIERARCH ESO PRO REC1 PARAM15 VALUE = 'optimal ' / Default: 'optimal'           \n",
       "HIERARCH ESO PRO REC1 PARAM16 NAME = 'reduce.extract.oversample' / The oversampl\n",
       "HIERARCH ESO PRO REC1 PARAM16 VALUE = '-1      ' / Default: -1                  \n",
       "HIERARCH ESO PRO REC1 PARAM17 NAME = 'reduce.extract.best' / (optimal extraction\n",
       "HIERARCH ESO PRO REC1 PARAM17 VALUE = 'true    ' / Default: true                \n",
       "HIERARCH ESO PRO REC1 PARAM18 NAME = 'reduce.slitlength' / Extraction slit lengt\n",
       "HIERARCH ESO PRO REC1 PARAM18 VALUE = '-1      ' / Default: -1                  \n",
       "HIERARCH ESO PRO REC1 PARAM19 NAME = 'reduce.skysub' / Do sky-subtraction (only \n",
       "HIERARCH ESO PRO REC1 PARAM19 VALUE = 'true    ' / Default: true                \n",
       "HIERARCH ESO PRO REC1 PARAM20 NAME = 'reduce.objoffset' / Offset (in pixels) of \n",
       "HIERARCH ESO PRO REC1 PARAM20 VALUE = '0       ' / Default: 0                   \n",
       "HIERARCH ESO PRO REC1 PARAM21 NAME = 'reduce.objslit' / Object window size (in p\n",
       "HIERARCH ESO PRO REC1 PARAM21 VALUE = '-1      ' / Default: -1                  \n",
       "HIERARCH ESO PRO REC1 PARAM22 NAME = 'reduce.tiltcorr' / If enabled (recommended\n",
       "HIERARCH ESO PRO REC1 PARAM22 VALUE = 'true    ' / Default: true                \n",
       "HIERARCH ESO PRO REC1 PARAM23 NAME = 'reduce.ffmethod' / Flat-fielding method. I\n",
       "HIERARCH ESO PRO REC1 PARAM23 VALUE = 'pixel   ' / Default: 'extract'           \n",
       "HIERARCH ESO PRO REC1 PARAM24 NAME = 'reduce.rebin.wavestep' / The bin size (in \n",
       "HIERARCH ESO PRO REC1 PARAM24 VALUE = '-1      ' / Default: -1                  \n",
       "HIERARCH ESO PRO REC1 PARAM25 NAME = 'reduce.rebin.scale' / Whether or not to mu\n",
       "HIERARCH ESO PRO REC1 PARAM25 VALUE = 'false   ' / Default: false               \n",
       "HIERARCH ESO PRO REC1 PARAM26 NAME = 'reduce.merge' / Order merging method. If '\n",
       "HIERARCH ESO PRO REC1 PARAM26 VALUE = 'noappend' / Default: 'optimal'           \n",
       "HIERARCH ESO PRO REC1 PARAM27 NAME = 'reduce.merge_delt1' / Order merging left h\n",
       "HIERARCH ESO PRO REC1 PARAM27 VALUE = '0       ' / Default: 0                   \n",
       "HIERARCH ESO PRO REC1 PARAM28 NAME = 'reduce.merge_delt2' / Order merging right \n",
       "HIERARCH ESO PRO REC1 PARAM28 VALUE = '0       ' / Default: 0                   \n",
       "HIERARCH ESO PRO DATAMED =  0. / Median of pixel values                         \n",
       "HIERARCH ESO PRO DATAAVG = 887.181669048052 / Mean of pixel values              \n",
       "HIERARCH ESO PRO DATARMS = 3278.03750107414 / Standard deviation of pixel values\n",
       "HIERARCH ESO PRO REC1 START = '2013-02-17T19:13:24'                             \n",
       "HIERARCH ESO PRO REC1 STOP = '2013-02-17T19:15:00'                              \n",
       "HIERARCH ESO ADA ABSROT START = -191.01273 / Abs rot angle at exp start (deg)   \n",
       "HIERARCH ESO ADA POSANG = -92.073 / Position angle at start                     \n",
       "HIERARCH ESO ADA GUID STATUS = 'ON      ' / Status of autoguider                \n",
       "HIERARCH ESO ADA GUID RA = 190.363168 / 12:41:27.1 Guide star RA J2000          \n",
       "HIERARCH ESO ADA GUID DEC = -1.51787 / -01:31:04.3 Guide star DEC J2000         \n",
       "HIERARCH ESO ADA ABSROT PPOS = 'NEG     ' / sign of probe position              \n",
       "HIERARCH ESO ADA ABSROT END = -190.96302 / Abs rot angle at exp end (deg)       \n",
       "HIERARCH ESO OCS SIMCAL =    0 / Simultaneous Calibration flag                  \n",
       "HIERARCH ESO BNOISE = 1.39703544909967 / Master bias RMS on frame               \n",
       "HIERARCH ESO QC DID = 'UVES-1.14' / ESO QC DID                                  \n",
       "HIERARCH ESO QC TEST1 ID = 'Science-Reduction-Test-Results' / Name of QC test   \n",
       "HIERARCH ESO QC ORD1 OBJ SN = 0. / Av. S/N at order center                      \n",
       "HIERARCH ESO QC ORD1 OBJ POS = 30.4003 / Av. OBJ POS at order center            \n",
       "HIERARCH ESO QC ORD1 OBJ FWHM = 0. / Av. FWHM on order                          \n",
       "HIERARCH ESO QC ORD1 OBJ RPLPAR = -1. / Av. relative ripple amplitude           \n",
       "HIERARCH ESO QC ORD2 OBJ SN = 149.4205 / Av. S/N at order center                \n",
       "HIERARCH ESO QC ORD2 OBJ POS = 30.3738 / Av. OBJ POS at order center            \n",
       "HIERARCH ESO QC ORD2 OBJ FWHM = 6.4179 / Av. FWHM on order                      \n",
       "HIERARCH ESO QC ORD2 OBJ RPLPAR = -1. / Av. relative ripple amplitude           \n",
       "HIERARCH ESO QC ORD3 OBJ SN = 143.8328 / Av. S/N at order center                \n",
       "HIERARCH ESO QC ORD3 OBJ POS = 30.3567 / Av. OBJ POS at order center            \n",
       "HIERARCH ESO QC ORD3 OBJ FWHM = 6.4076 / Av. FWHM on order                      \n",
       "HIERARCH ESO QC ORD3 OBJ RPLPAR = 0.4804 / Av. relative ripple amplitude        \n",
       "HIERARCH ESO QC ORD4 OBJ SN = 141.9118 / Av. S/N at order center                \n",
       "HIERARCH ESO QC ORD4 OBJ POS = 30.3452 / Av. OBJ POS at order center            \n",
       "HIERARCH ESO QC ORD4 OBJ FWHM = 6.3909 / Av. FWHM on order                      \n",
       "HIERARCH ESO QC ORD4 OBJ RPLPAR = 0.6237 / Av. relative ripple amplitude        \n",
       "HIERARCH ESO QC ORD5 OBJ SN = 139.2424 / Av. S/N at order center                \n",
       "HIERARCH ESO QC ORD5 OBJ POS = 30.3364 / Av. OBJ POS at order center            \n",
       "HIERARCH ESO QC ORD5 OBJ FWHM = 6.4245 / Av. FWHM on order                      \n",
       "HIERARCH ESO QC ORD5 OBJ RPLPAR = -1. / Av. relative ripple amplitude           \n",
       "HIERARCH ESO QC ORD6 OBJ SN = 132.8221 / Av. S/N at order center                \n",
       "HIERARCH ESO QC ORD6 OBJ POS = 30.3283 / Av. OBJ POS at order center            \n",
       "HIERARCH ESO QC ORD6 OBJ FWHM = 6.4615 / Av. FWHM on order                      \n",
       "HIERARCH ESO QC ORD6 OBJ RPLPAR = -1. / Av. relative ripple amplitude           \n",
       "HIERARCH ESO QC ORD7 OBJ SN = 130.4127 / Av. S/N at order center                \n",
       "HIERARCH ESO QC ORD7 OBJ POS = 30.3198 / Av. OBJ POS at order center            \n",
       "HIERARCH ESO QC ORD7 OBJ FWHM = 6.5069 / Av. FWHM on order                      \n",
       "HIERARCH ESO QC ORD7 OBJ RPLPAR = -1. / Av. relative ripple amplitude           \n",
       "HIERARCH ESO QC ORD8 OBJ SN = 114.5825 / Av. S/N at order center                \n",
       "HIERARCH ESO QC ORD8 OBJ POS = 30.3104 / Av. OBJ POS at order center            \n",
       "HIERARCH ESO QC ORD8 OBJ FWHM = 6.6182 / Av. FWHM on order                      \n",
       "HIERARCH ESO QC ORD8 OBJ RPLPAR = -1. / Av. relative ripple amplitude           \n",
       "HIERARCH ESO QC ORD9 OBJ SN = 121.9209 / Av. S/N at order center                \n",
       "HIERARCH ESO QC ORD9 OBJ POS = 30.3009 / Av. OBJ POS at order center            \n",
       "HIERARCH ESO QC ORD9 OBJ FWHM = 6.7818 / Av. FWHM on order                      \n",
       "HIERARCH ESO QC ORD9 OBJ RPLPAR = -1. / Av. relative ripple amplitude           \n",
       "HIERARCH ESO QC ORD10 OBJ SN = 116.174 / Av. S/N at order center                \n",
       "HIERARCH ESO QC ORD10 OBJ POS = 30.2927 / Av. OBJ POS at order center           \n",
       "HIERARCH ESO QC ORD10 OBJ FWHM = 6.9496 / Av. FWHM on order                     \n",
       "HIERARCH ESO QC ORD10 OBJ RPLPAR = 0.3273 / Av. relative ripple amplitude       \n",
       "HIERARCH ESO QC ORD11 OBJ SN = 108.5051 / Av. S/N at order center               \n",
       "HIERARCH ESO QC ORD11 OBJ POS = 30.2881 / Av. OBJ POS at order center           \n",
       "HIERARCH ESO QC ORD11 OBJ FWHM = 7.0396 / Av. FWHM on order                     \n",
       "HIERARCH ESO QC ORD11 OBJ RPLPAR = 0.7156 / Av. relative ripple amplitude       \n",
       "HIERARCH ESO QC ORD12 OBJ SN = 102.0913 / Av. S/N at order center               \n",
       "HIERARCH ESO QC ORD12 OBJ POS = 30.2902 / Av. OBJ POS at order center           \n",
       "HIERARCH ESO QC ORD12 OBJ FWHM = 7.0414 / Av. FWHM on order                     \n",
       "HIERARCH ESO QC ORD12 OBJ RPLPAR = 0.3882 / Av. relative ripple amplitude       \n",
       "HIERARCH ESO QC ORD13 OBJ SN = 97.8738 / Av. S/N at order center                \n",
       "HIERARCH ESO QC ORD13 OBJ POS = 30.3032 / Av. OBJ POS at order center           \n",
       "HIERARCH ESO QC ORD13 OBJ FWHM = 6.9005 / Av. FWHM on order                     \n",
       "HIERARCH ESO QC ORD13 OBJ RPLPAR = 0.7105 / Av. relative ripple amplitude       \n",
       "HIERARCH ESO QC EX NORD =   13 / No. of orders extracted                        \n",
       "HIERARCH ESO QC EX XSIZE = 4096 / Input image width (pixels)                    \n",
       "HIERARCH ESO QC EX YSIZE =  64 / Extraction slit (pixels)                       \n",
       "HIERARCH ESO QC VRAD BARYCOR = -12.089435 / Barycentric radial velocity correcti\n",
       "HIERARCH ESO QC VRAD HELICOR = -12.087974 / Heliocentric radial velocity correct\n",
       "APNUM1  = '13 0 13.00 13.00'                                                    \n",
       "DC-FLAG =                    0                                                  \n",
       "WCSDIM  =                    1                                                  \n",
       "CD1_1   =    0.012379642365                                                     \n",
       "LTM1_1  =                   1.                                                  \n",
       "WAT0_001= 'system=equispec'                                                     \n",
       "WAT1_001= 'wtype=linear label=Wavelength units=angstroms'                       \n",
       "NCOMBINE=                    2                                                  \n",
       "SFIT    = '1       '                                                            \n",
       "SFITB   = '1       '                                                            \n",
       "                                                                                \n",
       "                                                                                \n",
       "                                                                                \n",
       "                                                                                "
      ]
     },
     "execution_count": 4,
     "metadata": {},
     "output_type": "execute_result"
    }
   ],
   "source": [
    "pf.getheader(obs_path)"
   ]
  },
  {
   "cell_type": "code",
   "execution_count": 55,
   "metadata": {},
   "outputs": [
    {
     "data": {
      "text/plain": [
       "(595493,)"
      ]
     },
     "execution_count": 55,
     "metadata": {},
     "output_type": "execute_result"
    }
   ],
   "source": [
    "spec_data = pf.getdata(obs_path)\n",
    "spec_data.shape"
   ]
  },
  {
   "cell_type": "code",
   "execution_count": 56,
   "metadata": {},
   "outputs": [],
   "source": [
    "ftfile = pf.open(obs_path)"
   ]
  },
  {
   "cell_type": "code",
   "execution_count": 57,
   "metadata": {},
   "outputs": [],
   "source": [
    "wl_i = ftfile[0].header['CRVAL1']\n",
    "wl_step = ftfile[0].header['CDELT1']\n",
    "wavelength = np.arange(spec_data.size)*wl_step+wl_i      # wavelength"
   ]
  },
  {
   "cell_type": "code",
   "execution_count": 59,
   "metadata": {},
   "outputs": [
    {
     "data": {
      "text/plain": [
       "array([1.        , 1.        , 1.        , ..., 0.96092611, 0.96647718,\n",
       "       0.97290312])"
      ]
     },
     "execution_count": 59,
     "metadata": {},
     "output_type": "execute_result"
    }
   ],
   "source": [
    "spec_data"
   ]
  },
  {
   "cell_type": "code",
   "execution_count": 62,
   "metadata": {},
   "outputs": [
    {
     "data": {
      "text/plain": [
       "[<matplotlib.lines.Line2D at 0x7f05036097b8>]"
      ]
     },
     "execution_count": 62,
     "metadata": {},
     "output_type": "execute_result"
    },
    {
     "data": {
      "image/png": "[encoded data removed]",
      "text/plain": [
       "<Figure size 432x288 with 1 Axes>"
      ]
     },
     "metadata": {},
     "output_type": "display_data"
    }
   ],
   "source": [
    "plt.plot(wavelength, spec_data)"
   ]
  },
  {
   "cell_type": "code",
   "execution_count": 8,
   "metadata": {},
   "outputs": [],
   "source": [
    "wl_max = wavelength.max()\n",
    "wl_min = wavelength.min()\n",
    "flx_max = spec_data.max()\n",
    "flx_min = spec_data.min()"
   ]
  },
  {
   "cell_type": "markdown",
   "metadata": {},
   "source": [
    "### Seguindo exemplo do notebook da Malu"
   ]
  },
  {
   "cell_type": "code",
   "execution_count": 9,
   "metadata": {},
   "outputs": [],
   "source": [
    "import scipy.interpolate as interp"
   ]
  },
  {
   "cell_type": "code",
   "execution_count": 10,
   "metadata": {},
   "outputs": [],
   "source": [
    "my_step = 0.05"
   ]
  },
  {
   "cell_type": "code",
   "execution_count": 11,
   "metadata": {},
   "outputs": [],
   "source": [
    "interpolation_function = interp.interp1d(wavelength, spec_data)"
   ]
  },
  {
   "cell_type": "code",
   "execution_count": 12,
   "metadata": {},
   "outputs": [],
   "source": [
    "new_wavelength = np.arange(start=wl_min,  stop=wl_max, step=my_step)"
   ]
  },
  {
   "cell_type": "code",
   "execution_count": 13,
   "metadata": {},
   "outputs": [],
   "source": [
    "new_flux = np.arange(start=flx_min, stop=flx_max)\n",
    "new_flux = interpolation_function(new_wavelength)"
   ]
  },
  {
   "cell_type": "code",
   "execution_count": 14,
   "metadata": {},
   "outputs": [
    {
     "data": {
      "image/png": "[encoded data removed]",
      "text/plain": [
       "<Figure size 432x288 with 1 Axes>"
      ]
     },
     "metadata": {},
     "output_type": "display_data"
    }
   ],
   "source": [
    "plt.plot(new_wavelength, new_flux, '-')\n",
    "plt.xlabel(r\"Wavelength ($\\mathrm{\\AA}$)\")\n",
    "plt.ylabel(r\"Flux\")\n",
    "plt.show()"
   ]
  },
  {
   "cell_type": "code",
   "execution_count": 15,
   "metadata": {},
   "outputs": [
    {
     "data": {
      "image/png": "[encoded data removed]",
      "text/plain": [
       "<Figure size 432x288 with 1 Axes>"
      ]
     },
     "metadata": {},
     "output_type": "display_data"
    }
   ],
   "source": [
    "with pf.open(obs_path) as hdu:\n",
    "    data = hdu[0].data\n",
    "    hdr = hdu[0].header #added to try2\n",
    "    step = hdr['CDELT1'] #added to try2\n",
    "    restw = hdr['CRVAL1'] #added to try2\n",
    "    spectra = restw + (data * step) #added to try\n",
    "    \n",
    "    plt.plot(spectra)\n",
    "    plt.show()"
   ]
  },
  {
   "cell_type": "code",
   "execution_count": 16,
   "metadata": {
    "scrolled": false
   },
   "outputs": [
    {
     "data": {
      "image/png": "[encoded data removed]",
      "text/plain": [
       "<Figure size 432x288 with 1 Axes>"
      ]
     },
     "metadata": {},
     "output_type": "display_data"
    }
   ],
   "source": [
    "with pf.open(tel_path) as hdu:\n",
    "    data = hdu[0].data\n",
    "    hdr = hdu[0].header #added to try2\n",
    "    step = hdr['CDELT1'] #added to try2\n",
    "    restw = hdr['CRVAL1'] #added to try2\n",
    "    spectra = restw + (data * step) #added to try\n",
    "    \n",
    "    plt.plot(spectra)\n",
    "    plt.show()"
   ]
  },
  {
   "cell_type": "code",
   "execution_count": null,
   "metadata": {},
   "outputs": [],
   "source": []
  },
  {
   "cell_type": "code",
   "execution_count": null,
   "metadata": {},
   "outputs": [],
   "source": []
  },
  {
   "cell_type": "code",
   "execution_count": 18,
   "metadata": {},
   "outputs": [],
   "source": [
    "ardata = pf.open('spectra/ardata.fits')\n",
    "# step = hdr['CDELT1'] #added to try2\n",
    "# restw = hdr['CRVAL1'] #added to try2\n",
    "# spectra = restw + (data * step) #added to try\n",
    "\n",
    "# plt.plot(spectra)\n",
    "# plt.show()"
   ]
  },
  {
   "cell_type": "code",
   "execution_count": 26,
   "metadata": {},
   "outputs": [
    {
     "name": "stdout",
     "output_type": "stream",
     "text": [
      "Filename: spectra/ardata.fits\n",
      "No.    Name      Ver    Type      Cards   Dimensions   Format\n",
      "  0  PRIMARY       1 PrimaryHDU       6   ()      \n",
      "  1                1 BinTableHDU     29   762078R x 4C   [1D, 1E, 1E, 1E]   \n"
     ]
    }
   ],
   "source": [
    "ardata.info()"
   ]
  },
  {
   "cell_type": "code",
   "execution_count": 27,
   "metadata": {},
   "outputs": [
    {
     "data": {
      "text/plain": [
       "SIMPLE  =                    T /Written by IDL:  Mon Feb 28 17:09:21 2000       \n",
       "BITPIX  =                    8 /                                                \n",
       "NAXIS   =                    0 /                                                \n",
       "EXTEND  =                    T /File contains extensions                        \n",
       "NEXTEND =                    1 /Number of standard extensions                   \n",
       "DATE    = '2000-02-28'         /                                                "
      ]
     },
     "execution_count": 27,
     "metadata": {},
     "output_type": "execute_result"
    }
   ],
   "source": [
    "ardata[0].header"
   ]
  },
  {
   "cell_type": "code",
   "execution_count": 44,
   "metadata": {},
   "outputs": [
    {
     "data": {
      "text/plain": [
       "ColDefs(\n",
       "    name = 'WAVELENGTH'; format = '1D'; disp = 'F9.4'\n",
       "    name = 'ARCTURUS'; format = '1E'; disp = 'F7.4'\n",
       "    name = 'SOLARFLUX'; format = '1E'; disp = 'F7.4'\n",
       "    name = 'TELLURIC'; format = '1E'; disp = 'F7.4'\n",
       ")"
      ]
     },
     "execution_count": 44,
     "metadata": {},
     "output_type": "execute_result"
    }
   ],
   "source": [
    "data = ardata[1].data\n",
    "ardata[1].columns"
   ]
  },
  {
   "cell_type": "code",
   "execution_count": 46,
   "metadata": {},
   "outputs": [],
   "source": [
    "wl_ardata = data['WAVELENGTH']\n",
    "arcturus_flux = data['ARCTURUS']\n",
    "solarflux = data['SOLARFLUX']\n",
    "tell_ardata = data['TELLURIC']"
   ]
  },
  {
   "cell_type": "code",
   "execution_count": 38,
   "metadata": {},
   "outputs": [],
   "source": [
    "hdu = pf.open(obs_path)\n",
    "data_new = hdu[0].data\n",
    "hdr = hdu[0].header #added to try2\n",
    "step = hdr['CDELT1'] #added to try2\n",
    "restw = hdr['CRVAL1'] #added to try2\n",
    "spectra = restw + (data * step) #added to try"
   ]
  },
  {
   "cell_type": "code",
   "execution_count": 63,
   "metadata": {},
   "outputs": [
    {
     "data": {
      "text/plain": [
       "array([ 0.4408,  0.4565,  0.4739, ..., -1.    , -1.    , -1.    ],\n",
       "      dtype=float32)"
      ]
     },
     "execution_count": 63,
     "metadata": {},
     "output_type": "execute_result"
    }
   ],
   "source": [
    "arcturus_flux"
   ]
  },
  {
   "cell_type": "code",
   "execution_count": 33,
   "metadata": {},
   "outputs": [
    {
     "data": {
      "text/plain": [
       "0.012379642365"
      ]
     },
     "execution_count": 33,
     "metadata": {},
     "output_type": "execute_result"
    }
   ],
   "source": [
    "step"
   ]
  },
  {
   "cell_type": "code",
   "execution_count": 34,
   "metadata": {},
   "outputs": [
    {
     "data": {
      "text/plain": [
       "3052.0"
      ]
     },
     "execution_count": 34,
     "metadata": {},
     "output_type": "execute_result"
    }
   ],
   "source": [
    "restw"
   ]
  },
  {
   "cell_type": "code",
   "execution_count": 35,
   "metadata": {},
   "outputs": [
    {
     "data": {
      "text/plain": [
       "array([3052.01237964, 3052.01237964, 3052.01237964, ..., 3052.01189592,\n",
       "       3052.01196464, 3052.01204419])"
      ]
     },
     "execution_count": 35,
     "metadata": {},
     "output_type": "execute_result"
    }
   ],
   "source": [
    "spectra"
   ]
  },
  {
   "cell_type": "code",
   "execution_count": 48,
   "metadata": {},
   "outputs": [
    {
     "data": {
      "text/plain": [
       "[<matplotlib.lines.Line2D at 0x7f04f3f337f0>]"
      ]
     },
     "execution_count": 48,
     "metadata": {},
     "output_type": "execute_result"
    },
    {
     "data": {
      "image/png": "[encoded data removed]",
      "text/plain": [
       "<Figure size 432x288 with 1 Axes>"
      ]
     },
     "metadata": {},
     "output_type": "display_data"
    }
   ],
   "source": [
    "plt.plot(wl_ardata, arcturus_flux)"
   ]
  },
  {
   "cell_type": "code",
   "execution_count": 49,
   "metadata": {},
   "outputs": [
    {
     "data": {
      "text/plain": [
       "[<matplotlib.lines.Line2D at 0x7f04f70b0400>]"
      ]
     },
     "execution_count": 49,
     "metadata": {},
     "output_type": "execute_result"
    },
    {
     "data": {
      "image/png": "[encoded data removed]",
      "text/plain": [
       "<Figure size 432x288 with 1 Axes>"
      ]
     },
     "metadata": {},
     "output_type": "display_data"
    }
   ],
   "source": [
    "plt.plot(wl_ardata, solarflux)"
   ]
  },
  {
   "cell_type": "code",
   "execution_count": 50,
   "metadata": {},
   "outputs": [
    {
     "data": {
      "text/plain": [
       "[<matplotlib.lines.Line2D at 0x7f04f71834a8>]"
      ]
     },
     "execution_count": 50,
     "metadata": {},
     "output_type": "execute_result"
    },
    {
     "data": {
      "image/png": "[encoded data removed]",
      "text/plain": [
       "<Figure size 432x288 with 1 Axes>"
      ]
     },
     "metadata": {},
     "output_type": "display_data"
    }
   ],
   "source": [
    "plt.plot(wl_ardata, tell_ardata)"
   ]
  },
  {
   "cell_type": "code",
   "execution_count": 64,
   "metadata": {},
   "outputs": [],
   "source": [
    "# INTERPOLATE TO SAME WAVELENGTH GRID "
   ]
  },
  {
   "cell_type": "code",
   "execution_count": null,
   "metadata": {},
   "outputs": [],
   "source": []
  }
 ],
 "metadata": {
  "kernelspec": {
   "display_name": "Python 3",
   "language": "python",
   "name": "python3"
  },
  "language_info": {
   "codemirror_mode": {
    "name": "ipython",
    "version": 3
   },
   "file_extension": ".py",
   "mimetype": "text/x-python",
   "name": "python",
   "nbconvert_exporter": "python",
   "pygments_lexer": "ipython3",
   "version": "3.6.5"
  }
 },
 "nbformat": 4,
 "nbformat_minor": 2
}
